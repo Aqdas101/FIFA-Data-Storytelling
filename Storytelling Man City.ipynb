{
 "cells": [
  {
   "cell_type": "code",
   "execution_count": 7,
   "metadata": {},
   "outputs": [],
   "source": [
    "import pandas as pd\n",
    "import matplotlib.pyplot as plt\n",
    "import seaborn as sns\n",
    "import warnings\n",
    "warnings.filterwarnings('ignore')"
   ]
  },
  {
   "cell_type": "code",
   "execution_count": 8,
   "metadata": {},
   "outputs": [],
   "source": [
    "data = pd.read_csv(\"EPL_Set.csv\")"
   ]
  },
  {
   "cell_type": "code",
   "execution_count": 9,
   "metadata": {},
   "outputs": [],
   "source": [
    "filter_out = data[ (data.Season == \"2017-18\") & ( (data.HomeTeam == \"Man City\") | (data.AwayTeam == \"Man City\") )]"
   ]
  },
  {
   "cell_type": "code",
   "execution_count": 10,
   "metadata": {},
   "outputs": [],
   "source": [
    "filter_out[\"W/D/L\"] = 0"
   ]
  },
  {
   "cell_type": "code",
   "execution_count": 11,
   "metadata": {},
   "outputs": [],
   "source": [
    "filter_out.loc[(filter_out[\"HomeTeam\"] == \"Man City\") & (filter_out[\"FTR\"] == \"H\"), \"W/D/L\"] = \"W\"\n",
    "filter_out.loc[(filter_out[\"HomeTeam\"] == \"Man City\") & (filter_out[\"FTR\"] == \"A\"), \"W/D/L\"] = \"L\"\n",
    "filter_out.loc[(filter_out[\"HomeTeam\"] == \"Man City\") & (filter_out[\"FTR\"] == \"D\"), \"W/D/L\"] = \"D\""
   ]
  },
  {
   "cell_type": "code",
   "execution_count": 12,
   "metadata": {},
   "outputs": [],
   "source": [
    "filter_out.loc[(filter_out[\"AwayTeam\"] == \"Man City\") & (filter_out[\"FTR\"] == \"A\"), \"W/D/L\"] = \"W\"\n",
    "filter_out.loc[(filter_out[\"AwayTeam\"] == \"Man City\") & (filter_out[\"FTR\"] == \"H\"), \"W/D/L\"] = \"L\"\n",
    "filter_out.loc[(filter_out[\"AwayTeam\"] == \"Man City\") & (filter_out[\"FTR\"] == \"D\"), \"W/D/L\"] = \"D\""
   ]
  },
  {
   "cell_type": "code",
   "execution_count": 13,
   "metadata": {},
   "outputs": [],
   "source": [
    "bar_prep = filter_out[\"W/D/L\"].value_counts()"
   ]
  },
  {
   "cell_type": "markdown",
   "metadata": {},
   "source": [
    "#                                    Storytelling  "
   ]
  },
  {
   "cell_type": "code",
   "execution_count": 15,
   "metadata": {},
   "outputs": [
    {
     "data": {
      "image/png": "[encoded data removed]",
      "text/plain": [
       "<Figure size 1224x504 with 1 Axes>"
      ]
     },
     "metadata": {},
     "output_type": "display_data"
    }
   ],
   "source": [
    "plt.figure(figsize=(17,7))\n",
    "sns.set_style(\"white\")\n",
    "barplot = plt.bar(bar_prep.index,bar_prep.values, linewidth=3, hatch=\"/\")\n",
    "plt.bar_label(barplot, labels= bar_prep.values, label_type=\"edge\", padding = 3, weight = \"bold\", size=15,\\\n",
    "             color = \"#404040\")\n",
    "plt.title(\"MANCHESTER CITY (2017-18)\", size= 30, weight = 'bold', color= \"#404040\")\n",
    "plt.xticks(bar_prep.index, [\"WINS\", \"DRAWS\", \"LOSSES\"], weight = \"bold\", color = \"#404040\", fontsize = 18)\n",
    "plt.yticks([])\n",
    "plt.ylim([0,45])\n",
    "\n",
    "\n",
    "\n",
    "\n",
    "barplot[0].set_color(\"#6EEB83\")\n",
    "barplot[0].set_edgecolor(\"#404040\")\n",
    "barplot[1].set_color(\"grey\")\n",
    "barplot[1].set_edgecolor(\"#404040\")\n",
    "barplot[2].set_color(\"red\")\n",
    "barplot[2].set_edgecolor(\"#404040\")\n",
    "\n",
    "xmin = 0.01\n",
    "xmax = 0.02\n",
    "for i in filter_out[\"W/D/L\"]:\n",
    "    if i == \"W\":\n",
    "        plt.axhline(y=40, xmin = xmin, xmax=xmax, color=\"#6EEB83\", linewidth= 7)\n",
    "        xmin += 0.026\n",
    "        xmax += 0.026\n",
    "    elif i == \"D\":\n",
    "        plt.axhline(y=40, xmin = xmin, xmax=xmax, color=\"grey\", linewidth= 7)\n",
    "        xmin += 0.026\n",
    "        xmax += 0.026\n",
    "        \n",
    "    elif i == \"L\":\n",
    "        plt.axhline(y=40, xmin = xmin, xmax=xmax, color=\"red\", linewidth= 7)\n",
    "        xmin += 0.026\n",
    "        xmax += 0.026\n",
    "        \n",
    "\n",
    "plt.show()\n",
    "\n"
   ]
  }
 ],
 "metadata": {
  "kernelspec": {
   "display_name": "Python 3",
   "language": "python",
   "name": "python3"
  },
  "language_info": {
   "codemirror_mode": {
    "name": "ipython",
    "version": 3
   },
   "file_extension": ".py",
   "mimetype": "text/x-python",
   "name": "python",
   "nbconvert_exporter": "python",
   "pygments_lexer": "ipython3",
   "version": "3.7.0"
  }
 },
 "nbformat": 4,
 "nbformat_minor": 2
}
